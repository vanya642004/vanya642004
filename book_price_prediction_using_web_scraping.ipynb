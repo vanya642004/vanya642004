{
  "nbformat": 4,
  "nbformat_minor": 0,
  "metadata": {
    "colab": {
      "provenance": [],
      "authorship_tag": "ABX9TyMer0MeUKFsV0h4JNGIA016",
      "include_colab_link": true
    },
    "kernelspec": {
      "name": "python3",
      "display_name": "Python 3"
    },
    "language_info": {
      "name": "python"
    }
  },
  "cells": [
    {
      "cell_type": "markdown",
      "metadata": {
        "id": "view-in-github",
        "colab_type": "text"
      },
      "source": [
        "<a href=\"https://colab.research.google.com/github/vanya642004/vanya642004/blob/main/book_price_prediction_using_web_scraping.ipynb\" target=\"_parent\"><img src=\"https://colab.research.google.com/assets/colab-badge.svg\" alt=\"Open In Colab\"/></a>"
      ]
    },
    {
      "cell_type": "code",
      "source": [
        "import requests\n",
        "from bs4 import BeautifulSoup\n",
        "\n",
        "# URL of the website to scrape\n",
        "url = \"http://books.toscrape.com/\"\n",
        "\n",
        "# Send an HTTP GET request to the URL\n",
        "response = requests.get(url)\n",
        "\n",
        "# Parse the page content using BeautifulSoup\n",
        "soup = BeautifulSoup(response.content, 'html.parser')\n",
        "\n",
        "# Find all book containers\n",
        "books = soup.find_all('article', class_='product_pod')\n",
        "\n",
        "# List to store scraped data\n",
        "book_data = []\n",
        "\n",
        "# Loop through each book container to extract details\n",
        "for book in books:\n",
        "    # Extract book title\n",
        "    title = book.h3.a['title']\n",
        "\n",
        "    # Extract book price\n",
        "    price = book.find('p', class_='price_color').text\n",
        "\n",
        "    # Add details to the list\n",
        "    book_data.append({'title': title, 'price': price})\n",
        "\n",
        "# Display the scraped data\n",
        "for i, book in enumerate(book_data, start=1):\n",
        "    print(f\"{i}. {book['title']} - {book['price']}\")\n",
        "\n",
        "\n",
        "import csv\n",
        "\n",
        "# Save the data to a CSV file\n",
        "with open('books.csv', 'w', newline='', encoding='utf-8') as csvfile:\n",
        "    writer = csv.DictWriter(csvfile, fieldnames=['title', 'price'])\n",
        "    writer.writeheader()\n",
        "    writer.writerows(book_data)\n",
        "print(\"Data saved to books.csv\")\n"
      ],
      "metadata": {
        "colab": {
          "base_uri": "https://localhost:8080/"
        },
        "id": "CwWqNIVjGZFV",
        "outputId": "8d194237-3053-4503-ce60-24af73b7247f"
      },
      "execution_count": 2,
      "outputs": [
        {
          "output_type": "stream",
          "name": "stdout",
          "text": [
            "1. A Light in the Attic - £51.77\n",
            "2. Tipping the Velvet - £53.74\n",
            "3. Soumission - £50.10\n",
            "4. Sharp Objects - £47.82\n",
            "5. Sapiens: A Brief History of Humankind - £54.23\n",
            "6. The Requiem Red - £22.65\n",
            "7. The Dirty Little Secrets of Getting Your Dream Job - £33.34\n",
            "8. The Coming Woman: A Novel Based on the Life of the Infamous Feminist, Victoria Woodhull - £17.93\n",
            "9. The Boys in the Boat: Nine Americans and Their Epic Quest for Gold at the 1936 Berlin Olympics - £22.60\n",
            "10. The Black Maria - £52.15\n",
            "11. Starving Hearts (Triangular Trade Trilogy, #1) - £13.99\n",
            "12. Shakespeare's Sonnets - £20.66\n",
            "13. Set Me Free - £17.46\n",
            "14. Scott Pilgrim's Precious Little Life (Scott Pilgrim #1) - £52.29\n",
            "15. Rip it Up and Start Again - £35.02\n",
            "16. Our Band Could Be Your Life: Scenes from the American Indie Underground, 1981-1991 - £57.25\n",
            "17. Olio - £23.88\n",
            "18. Mesaerion: The Best Science Fiction Stories 1800-1849 - £37.59\n",
            "19. Libertarianism for Beginners - £51.33\n",
            "20. It's Only the Himalayas - £45.17\n",
            "Data saved to books.csv\n"
          ]
        }
      ]
    },
    {
      "cell_type": "code",
      "source": [
        "import pandas as pd\n",
        "from sklearn.feature_extraction.text import TfidfVectorizer\n",
        "from sklearn.model_selection import train_test_split\n",
        "from sklearn.linear_model import LinearRegression\n",
        "from sklearn.metrics import mean_squared_error\n",
        "\n",
        "# Load the CSV file containing the book data\n",
        "df = pd.read_csv('books.csv')\n",
        "\n",
        "# Check the shape of the DataFrame and first few rows\n",
        "print(df.shape)\n",
        "print(df.head())\n",
        "\n",
        "# Preprocessing: Clean and prepare the data\n",
        "df['price'] = df['price'].replace({'£': '', '€': '', '$': ''}, regex=True).astype(float)\n",
        "\n",
        "# Split the dataset into features (X) and target (y)\n",
        "X = df['title']\n",
        "y = df['price']\n",
        "\n",
        "# Check if X and y are correctly populated\n",
        "print(f\"X length: {len(X)}\")\n",
        "print(f\"y length: {len(y)}\")\n",
        "\n",
        "# Convert the titles to numeric using TF-IDF Vectorizer\n",
        "tfidf = TfidfVectorizer(stop_words='english')\n",
        "X_tfidf = tfidf.fit_transform(X)\n",
        "\n",
        "# Check the shape of the TF-IDF features\n",
        "print(f\"Shape of X_tfidf: {X_tfidf.shape}\")\n",
        "\n",
        "# Split the data into training and testing sets\n",
        "X_train, X_test, y_train, y_test = train_test_split(X_tfidf, y, test_size=0.2, random_state=42)\n",
        "\n",
        "# Check the size of the train and test sets\n",
        "print(f\"Train size: {X_train.shape}, Test size: {X_test.shape}\")\n",
        "\n",
        "# Train a machine learning model (Linear Regression)\n",
        "model = LinearRegression()\n",
        "model.fit(X_train, y_train)\n",
        "\n",
        "# Predict on the test set\n",
        "y_pred = model.predict(X_test)\n",
        "\n",
        "# Evaluate the model using Mean Squared Error\n",
        "mse = mean_squared_error(y_test, y_pred)\n",
        "print(f\"Mean Squared Error: {mse}\")\n",
        "\n",
        "# Display actual vs predicted prices for a few test samples\n",
        "for i in range(min(5, len(y_test))):  # Avoid out-of-bounds access\n",
        "    print(f\"Actual Price: {y_test.iloc[i]} | Predicted Price: {y_pred[i]}\")\n"
      ],
      "metadata": {
        "colab": {
          "base_uri": "https://localhost:8080/"
        },
        "id": "WTVTkLk1HOJK",
        "outputId": "ccc6755b-227d-4fd8-fc5b-cbf3168e9440"
      },
      "execution_count": 4,
      "outputs": [
        {
          "output_type": "stream",
          "name": "stdout",
          "text": [
            "(20, 2)\n",
            "                                   title   price\n",
            "0                   A Light in the Attic  £51.77\n",
            "1                     Tipping the Velvet  £53.74\n",
            "2                             Soumission  £50.10\n",
            "3                          Sharp Objects  £47.82\n",
            "4  Sapiens: A Brief History of Humankind  £54.23\n",
            "X length: 20\n",
            "y length: 20\n",
            "Shape of X_tfidf: (20, 71)\n",
            "Train size: (16, 71), Test size: (4, 71)\n",
            "Mean Squared Error: 286.2662215948846\n",
            "Actual Price: 51.77 | Predicted Price: 34.939944557456286\n",
            "Actual Price: 37.59 | Predicted Price: 34.939944557456286\n",
            "Actual Price: 57.25 | Predicted Price: 34.859170589521035\n",
            "Actual Price: 53.74 | Predicted Price: 34.939944557456286\n"
          ]
        }
      ]
    }
  ]
}